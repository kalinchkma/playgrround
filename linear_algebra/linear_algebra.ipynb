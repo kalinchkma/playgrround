{
 "cells": [
  {
   "cell_type": "code",
   "execution_count": 10,
   "id": "ca24c8c8-6873-4cbc-b969-96d8fa9b3ed4",
   "metadata": {},
   "outputs": [],
   "source": [
    "import numpy as np"
   ]
  },
  {
   "cell_type": "markdown",
   "id": "837947ab-ebc1-428c-b731-0fd9ec735d35",
   "metadata": {},
   "source": [
    "## **Linear Dependence**\n",
    "\n",
    "A set of vectors is linearly dependent if at least one of them can be written as a **linear combination** of others"
   ]
  },
  {
   "cell_type": "code",
   "execution_count": 15,
   "id": "9deb5912-0a11-4c15-bb7d-95e2464cf3fa",
   "metadata": {},
   "outputs": [
    {
     "data": {
      "text/plain": [
       "(array([1, 2, 3]), array([2, 4, 6]), array([3, 6, 9]))"
      ]
     },
     "execution_count": 15,
     "metadata": {},
     "output_type": "execute_result"
    }
   ],
   "source": [
    "v1 = np.array([1, 2, 3])\n",
    "v2 = np.array([2, 4, 6])\n",
    "v3 = np.array([3, 6, 9])\n",
    "v1, v2, v3"
   ]
  },
  {
   "cell_type": "code",
   "execution_count": 16,
   "id": "0649e02e-2edb-4e29-b4d8-578eafb1ca15",
   "metadata": {},
   "outputs": [
    {
     "data": {
      "text/plain": [
       "(array([2, 4, 6]), array([3, 6, 9]))"
      ]
     },
     "execution_count": 16,
     "metadata": {},
     "output_type": "execute_result"
    }
   ],
   "source": [
    "v1*2, v1*3"
   ]
  },
  {
   "cell_type": "markdown",
   "id": "caf9680c-c1fc-40f0-95f3-6f9330c074d3",
   "metadata": {},
   "source": [
    "## **Span**\n",
    "\n",
    "The **span** of a set of a vector is the set of all possible **linear combinations** of those vectors.\n",
    "\n",
    "### **Linear Combination**\n",
    "\n",
    "A **linear combination** of a set of vectors is a sum of those vectors, each multiplied by a scalar. It tells us how we can combine vectors\n",
    "to create new ones.\n",
    "\n",
    "Ex:\n",
    "Given, v1, v2, ..... Vn in R^n\n",
    "Linear combination  c1v1 + c2v2 + .... CnVn where Cn is scalars.\n",
    "\n",
    "### **Norm**\n",
    "\n",
    "Norm is a describe size of a vector. \n",
    "\n",
    "L2 norms (Euclidean norm): ||v||2 = root(v1^2 + v2^2 + .... + vn^2)\n",
    "\n",
    "L1 norms (Manhattan norm): ||v||1 = |v1| + |v2| + .... + |vn|\n",
    "\n",
    "L(infinite) norms (Maximum norm): ||v||(infinite) = max(|v1|, |v2|...|vn|)\n",
    "\n",
    "Generalized Lp Norm:\n",
    "        ||v||p = (|v1|p + |v2|p+.....+|vn|p)(1/p)\n",
    "\n",
    "### **Eigenvector** & **Eigenvalue**\n",
    "\n",
    "When linear transformation occures which vector only scale up and down is called **eigenvector** of the matrix.\n",
    "How much it scale by it's called **Eigenvalue**\n",
    "\n",
    "### **Eigendecomposition**\n",
    "\n",
    "In **eigendecomposition** we decompose a matrix into a set of **eigenvectors** and **eigenvalues**\n",
    "\n",
    "\n"
   ]
  },
  {
   "cell_type": "code",
   "execution_count": 18,
   "id": "0f44a24d-58c4-447a-8506-f165f137257c",
   "metadata": {},
   "outputs": [
    {
     "data": {
      "image/png": "[encoded data removed]",
      "text/plain": [
       "<Figure size 200x200 with 1 Axes>"
      ]
     },
     "metadata": {},
     "output_type": "display_data"
    }
   ],
   "source": [
    "import matplotlib.pyplot as plt\n",
    "import numpy as np\n",
    "\n",
    "plt.style.use('_mpl-gallery')\n",
    "\n",
    "# make the data\n",
    "np.random.seed(3)\n",
    "x = 4 + np.random.normal(0, 2, 24)\n",
    "y = 4 + np.random.normal(0, 2, len(x))\n",
    "# size and color:\n",
    "sizes = np.random.uniform(15, 80, len(x))\n",
    "colors = np.random.uniform(15, 80, len(x))\n",
    "\n",
    "# plot\n",
    "fig, ax = plt.subplots()\n",
    "\n",
    "ax.scatter(x, y, s=sizes, c=colors, vmin=0, vmax=100)\n",
    "\n",
    "ax.set(xlim=(0, 8), xticks=np.arange(1, 8),\n",
    "       ylim=(0, 8), yticks=np.arange(1, 8))\n",
    "\n",
    "plt.show()"
   ]
  },
  {
   "cell_type": "code",
   "execution_count": null,
   "id": "cb3c3247-1e9d-44e1-8bd1-42591a6108cf",
   "metadata": {},
   "outputs": [],
   "source": []
  }
 ],
 "metadata": {
  "kernelspec": {
   "display_name": "Python 3 (ipykernel)",
   "language": "python",
   "name": "python3"
  },
  "language_info": {
   "codemirror_mode": {
    "name": "ipython",
    "version": 3
   },
   "file_extension": ".py",
   "mimetype": "text/x-python",
   "name": "python",
   "nbconvert_exporter": "python",
   "pygments_lexer": "ipython3",
   "version": "3.11.2"
  }
 },
 "nbformat": 4,
 "nbformat_minor": 5
}
